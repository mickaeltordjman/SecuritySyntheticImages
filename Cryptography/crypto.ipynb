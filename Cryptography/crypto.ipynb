{
 "cells": [
  {
   "cell_type": "code",
   "execution_count": 18,
   "metadata": {},
   "outputs": [
    {
     "name": "stdout",
     "output_type": "stream",
     "text": [
      "Collecting pycryptodome\n",
      "  Downloading pycryptodome-3.23.0-cp37-abi3-win_amd64.whl.metadata (3.5 kB)\n",
      "Downloading pycryptodome-3.23.0-cp37-abi3-win_amd64.whl (1.8 MB)\n",
      "   ---------------------------------------- 0.0/1.8 MB ? eta -:--:--\n",
      "   ---------------------------------------- 1.8/1.8 MB 96.1 MB/s eta 0:00:00\n",
      "Installing collected packages: pycryptodome\n",
      "Successfully installed pycryptodome-3.23.0\n"
     ]
    }
   ],
   "source": [
    "!pip install pycryptodome"
   ]
  },
  {
   "cell_type": "code",
   "execution_count": 19,
   "metadata": {},
   "outputs": [
    {
     "name": "stdout",
     "output_type": "stream",
     "text": [
      "Requirement already satisfied: cryptography in c:\\users\\yucem01\\anaconda3\\envs\\torch\\lib\\site-packages (43.0.1)\n",
      "Requirement already satisfied: cffi>=1.12 in c:\\users\\yucem01\\anaconda3\\envs\\torch\\lib\\site-packages (from cryptography) (1.17.1)\n",
      "Requirement already satisfied: pycparser in c:\\users\\yucem01\\anaconda3\\envs\\torch\\lib\\site-packages (from cffi>=1.12->cryptography) (2.22)\n"
     ]
    }
   ],
   "source": [
    "!pip install cryptography"
   ]
  },
  {
   "cell_type": "markdown",
   "metadata": {},
   "source": [
    "### 1 - \"Image Hash Ledger System (IHLS)\".\n",
    "\n",
    "Rationale for the Name:\n",
    "\"Image Hash\": The system focuses on generating unique hash values for images, ensuring image authenticity.\n",
    "\n",
    "\"Ledger System\": It uses a ledger (JSON file) to store and track image hashes, timestamps, and metadata, which helps in verifying image integrity and ownership.\n",
    "\n",
    "\n",
    "Summary of How This Approach Works:\n",
    "This system focuses on tracking image hashes in a ledger for verification and integrity purposes. It generates an SHA-256 hash for each image, allowing users to check whether an image is already recorded in the ledger. If the image hash doesn't exist, the system can optionally add the image hash to the ledger along with any metadata and a timestamp. This ensures that each image is uniquely identified and its integrity can be verified by comparing hashes in future checks.\n",
    "\n",
    "This approach can be utilized for differentiating AI-generated images from real ones by adding the image hash to a ledger when the image is first acquired. If AI or manual tampering occurs, the hash will change, and the image can be flagged as altered. Vendors can update their acquisition and metadata processes by integrating automatic hash generation and ledger updating in the workflow. This enables full traceability and helps prevent fraudulent image submissions."
   ]
  },
  {
   "cell_type": "markdown",
   "metadata": {},
   "source": [
    "SHA-256 is a cryptographic hash function that produces a fixed-size, 256-bit hash value from arbitrary-length input data. It's part of the SHA-2 family and is widely used for verifying data integrity, especially in digital signatures and verifying transactions in blockchain technology like Bitcoin"
   ]
  },
  {
   "cell_type": "code",
   "execution_count": 20,
   "metadata": {},
   "outputs": [],
   "source": [
    "import hashlib\n",
    "import json\n",
    "import os\n",
    "from PIL import Image\n",
    "import numpy as np\n",
    "from datetime import datetime\n",
    "\n",
    "ledger_path = \"image_ledger.json\"\n",
    "\n",
    "def hash_image(image_path):\n",
    "    img = Image.open(image_path).convert(\"L\")\n",
    "    img_bytes = np.asarray(img).tobytes()\n",
    "    return hashlib.sha256(img_bytes).hexdigest()\n",
    "\n",
    "def load_ledger(path):\n",
    "    if os.path.exists(path):\n",
    "        with open(path, \"r\") as f:\n",
    "            return json.load(f)\n",
    "    return []\n",
    "\n",
    "def save_ledger(ledger, path):\n",
    "    with open(path, \"w\") as f:\n",
    "        json.dump(ledger, f, indent=4)\n",
    "\n",
    "def check_hash_in_ledger(image_hash, ledger):\n",
    "    for entry in ledger:\n",
    "        if entry[\"hash\"] == image_hash:\n",
    "            return True, entry\n",
    "    return False, None\n",
    "\n",
    "def handle_image_hashing(image_path, metadata=None, hash_flag=1):\n",
    "    if metadata is None:\n",
    "        metadata = {}\n",
    "\n",
    "    image_hash = hash_image(image_path)\n",
    "    ledger = load_ledger(ledger_path)\n",
    "\n",
    "    already_exists, existing_entry = check_hash_in_ledger(image_hash, ledger)\n",
    "\n",
    "    if already_exists:\n",
    "        print(\"✅ Image already exists in ledger.\")\n",
    "        print(\"🕒 Timestamp:\", existing_entry['timestamp'])\n",
    "        print(\"📄 Metadata:\", existing_entry['metadata'])\n",
    "        return\n",
    "\n",
    "    print(\"❌ Image is NOT currently hashed.\")\n",
    "    print(\"Hash:\", image_hash)\n",
    "\n",
    "    if hash_flag == 1:\n",
    "        new_entry = {\n",
    "            \"timestamp\": datetime.utcnow().isoformat(),\n",
    "            \"hash\": image_hash,\n",
    "            \"metadata\": metadata\n",
    "        }\n",
    "        ledger.append(new_entry)\n",
    "        save_ledger(ledger, ledger_path)\n",
    "        print(\"🆕 Image hash has been saved to the ledger.\")\n",
    "    else:\n",
    "        print(\"🚫 Skipping hashing as per user instruction (hash_flag=0).\")\n"
   ]
  },
  {
   "cell_type": "code",
   "execution_count": 26,
   "metadata": {},
   "outputs": [
    {
     "name": "stdout",
     "output_type": "stream",
     "text": [
      "❌ Image is NOT currently hashed.\n",
      "Hash: a9bf7187d7fff769af737b458969656622b963029b3c414b4334ec09e1a677f5\n",
      "🆕 Image hash has been saved to the ledger.\n"
     ]
    }
   ],
   "source": [
    "image_path = 'trial2.png'\n",
    "metadata = {\n",
    "    \"source\": \"Your Source Name\",\n",
    "    \"modality\": \"X Ray\",\n",
    "    \"author\": \"John Doe\"\n",
    "}\n",
    "\n",
    "handle_image_hashing(image_path, metadata, hash_flag=1)  # Hash and save\n",
    "#handle_image_hashing(image_path, metadata, hash_flag=0)  # Just check\n",
    "\n",
    "\n"
   ]
  },
  {
   "cell_type": "code",
   "execution_count": 27,
   "metadata": {},
   "outputs": [
    {
     "name": "stdout",
     "output_type": "stream",
     "text": [
      "✅ Image already exists in ledger.\n",
      "🕒 Timestamp: 2025-08-20T21:04:42.008887\n",
      "📄 Metadata: {'source': 'Your Source Name', 'modality': 'X Ray', 'author': 'John Doe'}\n"
     ]
    }
   ],
   "source": [
    "# Re-run after hashing done.\n",
    "\n",
    "image_path = 'trial2.png'\n",
    "metadata = {\n",
    "    \"source\": \"Your Source Name\",\n",
    "    \"modality\": \"X Ray\",\n",
    "    \"author\": \"John Doe\"\n",
    "}\n",
    "\n",
    "handle_image_hashing(image_path, metadata, hash_flag=1)  # Hash and save\n",
    "#handle_image_hashing(image_path, metadata, hash_flag=0)  # Just check"
   ]
  },
  {
   "cell_type": "markdown",
   "metadata": {},
   "source": [
    "### 2 - “RSA-Secure Imaging Signature (RSIS)”.\n",
    "\n",
    "Why this name?\n",
    "\"RSA-Secure\": It’s built on RSA public-private key cryptography.\n",
    "\n",
    "\"Imaging Signature\": It signs image files using a cryptographic hash and validates their integrity and authenticity—ideal for clinical or AI-sensitive imaging contexts.\n",
    "\n"
   ]
  },
  {
   "cell_type": "code",
   "execution_count": 28,
   "metadata": {},
   "outputs": [],
   "source": [
    "from Crypto.PublicKey import RSA\n",
    "from Crypto.Signature import pkcs1_15\n",
    "from Crypto.Hash import SHA256\n",
    "import os\n",
    "\n",
    "# ---🔐 1. KEY GENERATION ---\n",
    "# Generate RSA public-private key pair (only once per user/system)\n",
    "key = RSA.generate(2048)  # 2048-bit key strength\n",
    "private_key = key.export_key()  # Export private key in PEM format (bytes)\n",
    "public_key = key.publickey().export_key()  # Export corresponding public key\n",
    "\n",
    "# ---💾 2. SAVE KEYS TO FILES (Optional but recommended) ---\n",
    "with open(\"private.pem\", \"wb\") as f:\n",
    "    f.write(private_key)\n",
    "with open(\"public.pem\", \"wb\") as f:\n",
    "    f.write(public_key)\n",
    "\n",
    "# ---✍️ 3. SIGN IMAGE FUNCTION ---\n",
    "def sign_image(image_path, private_key_pem, save_to_file=True):\n",
    "    img_hash = SHA256.new(open(image_path, 'rb').read())\n",
    "    private_key = RSA.import_key(private_key_pem)\n",
    "    signature = pkcs1_15.new(private_key).sign(img_hash)\n",
    "\n",
    "    if save_to_file:\n",
    "        sig_path = image_path + \".sig\"\n",
    "        with open(sig_path, \"wb\") as f:\n",
    "            f.write(signature)\n",
    "        print(f\"📝 Signature saved to {sig_path}\")\n",
    "\n",
    "    return signature\n",
    "\n",
    "# ---✅ 4. VERIFY SIGNATURE FUNCTION ---\n",
    "def verify_signature(image_path, signature, public_key_pem):\n",
    "    \"\"\"\n",
    "    Verifies the signature of the image using the public RSA key.\n",
    "    Returns True if valid, False otherwise.\n",
    "    \"\"\"\n",
    "    # Recompute the hash of the image\n",
    "    img_hash = SHA256.new(open(image_path, 'rb').read())\n",
    "\n",
    "    # Import public key from PEM\n",
    "    public_key = RSA.import_key(public_key_pem)\n",
    "\n",
    "    try:\n",
    "        # Verify if signature matches the image hash\n",
    "        pkcs1_15.new(public_key).verify(img_hash, signature)\n",
    "        return True\n",
    "    except (ValueError, TypeError):\n",
    "        return False\n",
    "\n",
    "# ---🧪 5. USAGE FUNCTION WITH sign_flag CONTROL ---\n",
    "def process_image_signature(image_path, sign_flag=1):\n",
    "    \"\"\"\n",
    "    Allows user to choose whether to digitally sign the image.\n",
    "    - sign_flag = 1: Sign and verify the image.\n",
    "    - sign_flag = 0: Skip signing and just load keys.\n",
    "    \"\"\"\n",
    "    if not os.path.exists(image_path):\n",
    "        print(\"🚫 Image path does not exist.\")\n",
    "        return\n",
    "\n",
    "    if sign_flag == 1:\n",
    "        print(\"🔐 Signing image...\")\n",
    "        signature = sign_image(image_path, private_key)\n",
    "        \n",
    "        print(\"✅ Signature created. Now verifying...\")\n",
    "        is_valid = verify_signature(image_path, signature, public_key)\n",
    "        \n",
    "        print(\"✅ Signature valid:\", is_valid)\n",
    "    else:\n",
    "        print(\"ℹ️ Skipping signing. Keys loaded but no action taken.\")\n",
    "\n",
    "def is_image_signed(image_path, public_key_pem):\n",
    "    \"\"\"\n",
    "    Checks if an image is digitally signed and the signature is valid.\n",
    "    Assumes the signature file is saved as 'image_path.sig'\n",
    "    \"\"\"\n",
    "    sig_path = image_path + \".sig\"\n",
    "\n",
    "    if not os.path.exists(sig_path):\n",
    "        print(\"🔍 No signature file found for:\", image_path)\n",
    "        return False\n",
    "\n",
    "    with open(sig_path, \"rb\") as f:\n",
    "        signature = f.read()\n",
    "\n",
    "    is_valid = verify_signature(image_path, signature, public_key_pem)\n",
    "    if is_valid:\n",
    "        print(\"✅ Image is signed and the signature is valid.\")\n",
    "    else:\n",
    "        print(\"⚠️ Signature file found, but it's NOT valid!\")\n",
    "\n",
    "    return is_valid\n",
    "\n",
    "\n",
    "\n"
   ]
  },
  {
   "cell_type": "code",
   "execution_count": 29,
   "metadata": {},
   "outputs": [
    {
     "name": "stdout",
     "output_type": "stream",
     "text": [
      "🔐 Signing image...\n",
      "📝 Signature saved to trial1.jpg.sig\n",
      "✅ Signature created. Now verifying...\n",
      "✅ Signature valid: True\n"
     ]
    }
   ],
   "source": [
    "image_path = \"trial1.jpg\"\n",
    "process_image_signature(image_path, sign_flag=1)  # Change to 0 to skip signing"
   ]
  },
  {
   "cell_type": "code",
   "execution_count": 30,
   "metadata": {},
   "outputs": [
    {
     "name": "stdout",
     "output_type": "stream",
     "text": [
      "✅ Image is signed and the signature is valid.\n"
     ]
    }
   ],
   "source": [
    "# Use this to check if an image is signed:\n",
    "image_path = \"trial1.jpg\"\n",
    "is_signed = is_image_signed(image_path, public_key)"
   ]
  },
  {
   "cell_type": "code",
   "execution_count": 31,
   "metadata": {},
   "outputs": [
    {
     "name": "stdout",
     "output_type": "stream",
     "text": [
      "🔍 No signature file found for: trial2.jpg\n"
     ]
    }
   ],
   "source": [
    "# Use this to check if an image is signed:\n",
    "image_path = \"trial2.jpg\"\n",
    "is_signed = is_image_signed(image_path, public_key)"
   ]
  },
  {
   "cell_type": "code",
   "execution_count": 32,
   "metadata": {},
   "outputs": [
    {
     "name": "stdout",
     "output_type": "stream",
     "text": [
      "🔍 No signature file found for: trial3.jpg\n"
     ]
    }
   ],
   "source": [
    "# Use this to check if an image is signed:\n",
    "image_path = \"trial3.jpg\"\n",
    "is_signed = is_image_signed(image_path, public_key)"
   ]
  },
  {
   "cell_type": "markdown",
   "metadata": {},
   "source": [
    "### 3 - “Dual-Layer Watermarking for Medical Imaging Authentication (DLW-MIA)”.\n",
    "\n",
    "Why this name?\n",
    "\"Dual-Layer\": It uses both invisible (LSB-embedded) and visible (overlay text) watermarking methods.\n",
    "\n",
    "\"Watermarking\": The core function is to mark the image in a reversible but tamper-evident way.\n",
    "\n",
    "\"for Medical Imaging Authentication\": Clearly defines the use case—ensuring authenticity and traceability in radiology, diagnostic, and AI-augmented imaging workflows."
   ]
  },
  {
   "cell_type": "code",
   "execution_count": 33,
   "metadata": {},
   "outputs": [],
   "source": [
    "from PIL import Image, ImageDraw, ImageFont\n",
    "import numpy as np\n",
    "import os\n",
    "\n",
    "def embed_watermark(image_path, watermark_text, output_path, watermark_flag=1, show_indicator=True):\n",
    "    \"\"\"\n",
    "    Embeds a hidden watermark via LSB, and optionally overlays a visible watermark indicator.\n",
    "    \"\"\"\n",
    "    img = Image.open(image_path).convert(\"L\")\n",
    "    pixels = np.array(img)\n",
    "\n",
    "    if watermark_flag == 0:\n",
    "        img.save(output_path)\n",
    "        print(\"ℹ️ Watermarking skipped. Original image saved as:\", output_path)\n",
    "        return\n",
    "\n",
    "    # Hidden watermark encoding (LSB)\n",
    "    watermark_bin = ''.join([format(ord(c), '08b') for c in watermark_text]) + '00000000'\n",
    "    total_bits = len(watermark_bin)\n",
    "    flat_pixels = pixels.flatten()\n",
    "\n",
    "    if total_bits > len(flat_pixels):\n",
    "        raise ValueError(\"🚫 Watermark too long for image size!\")\n",
    "\n",
    "    for i in range(total_bits):\n",
    "        flat_pixels[i] = (flat_pixels[i] & ~1) | int(watermark_bin[i])\n",
    "\n",
    "    watermarked_img = Image.fromarray(flat_pixels.reshape(pixels.shape))\n",
    "\n",
    "    # Add visible watermark indicator if flag is set\n",
    "    if show_indicator:\n",
    "        watermarked_img = watermarked_img.convert(\"RGB\")  # Convert to RGB for drawing\n",
    "        draw = ImageDraw.Draw(watermarked_img)\n",
    "        try:\n",
    "            # Try loading a nicer font if available\n",
    "            font = ImageFont.truetype(\"arial.ttf\", size=24)\n",
    "        except:\n",
    "            font = ImageFont.load_default()\n",
    "\n",
    "        text = \"Watermarked Image\"\n",
    "        text_position = (10, 10)\n",
    "        draw.text(text_position, text, fill=(255, 0, 0), font=font)  # Red text\n",
    "\n",
    "    watermarked_img.save(output_path)\n",
    "    print(\"✅ Watermark embedded with indicator saved to:\", output_path)\n",
    "    \n",
    "    \n",
    "def extract_watermark(image_path, max_chars=100):\n",
    "    \"\"\"\n",
    "    Extracts hidden LSB-based watermark text from a grayscale image.\n",
    "\n",
    "    Args:\n",
    "        image_path (str): Path to the watermarked image.\n",
    "        max_chars (int): Max number of characters to extract (default 100).\n",
    "\n",
    "    Returns:\n",
    "        str: The extracted watermark text.\n",
    "    \"\"\"\n",
    "    img = Image.open(image_path).convert(\"L\")\n",
    "    pixels = np.array(img).flatten()\n",
    "\n",
    "    bits = [str(p & 1) for p in pixels[:max_chars * 8]]  # Read bits\n",
    "    chars = [chr(int(''.join(bits[i:i+8]), 2)) for i in range(0, len(bits), 8)]\n",
    "\n",
    "    watermark = ''.join(chars).split('\\x00')[0]  # Stop at null char\n",
    "    return watermark\n"
   ]
  },
  {
   "cell_type": "code",
   "execution_count": 34,
   "metadata": {},
   "outputs": [
    {
     "name": "stdout",
     "output_type": "stream",
     "text": [
      "✅ Watermark embedded with indicator saved to: watermarked_with_label_trial2.png\n"
     ]
    }
   ],
   "source": [
    "embed_watermark(\n",
    "    image_path=r\"trial2.png\",\n",
    "    watermark_text=\"2025_ABCDEFG\",\n",
    "    output_path=\"watermarked_with_label_trial2.png\",\n",
    "    watermark_flag=1,\n",
    "    show_indicator=True  # Set to False to hide the visible label\n",
    ")\n"
   ]
  },
  {
   "cell_type": "code",
   "execution_count": 35,
   "metadata": {},
   "outputs": [
    {
     "data": {
      "image/png": "[encoded data removed]",
      "text/plain": [
       "<Figure size 640x480 with 1 Axes>"
      ]
     },
     "metadata": {},
     "output_type": "display_data"
    }
   ],
   "source": [
    "import matplotlib.pyplot as plt\n",
    "img = Image.open(\"watermarked_with_label_trial2.png\")\n",
    "plt.imshow(img, cmap='gray', vmin=0, vmax=255)\n",
    "plt.axis('off')  # Hide axes\n",
    "plt.show()"
   ]
  },
  {
   "cell_type": "code",
   "execution_count": 36,
   "metadata": {},
   "outputs": [
    {
     "name": "stdout",
     "output_type": "stream",
     "text": [
      "🕵️ Extracted Watermark: 2025_ABCDEFG\n"
     ]
    }
   ],
   "source": [
    "extracted_text = extract_watermark(\"watermarked_with_label_trial2.png\")\n",
    "print(\"🕵️ Extracted Watermark:\", extracted_text)"
   ]
  },
  {
   "cell_type": "code",
   "execution_count": 37,
   "metadata": {},
   "outputs": [
    {
     "name": "stdout",
     "output_type": "stream",
     "text": [
      "🕵️ Extracted Watermark: Þl!ßIè\u001f\u0005mÅ|¿ïÿÏv]¸Lì:¬ËxúÝo²Jà\"¸!\f/í;V\u001f\u001eo\u0010\u0011¨T<]\u000f}C\u00065Î'^|çÌ\u001f°\u001bç ñÛ±ãüþoÚþN?Ï\u001bª¤¿Ï·í¶\u0014\n"
     ]
    }
   ],
   "source": [
    "image_path=\"trial2.png\"\n",
    "extracted_text = extract_watermark(image_path)\n",
    "print(\"🕵️ Extracted Watermark:\", extracted_text)"
   ]
  },
  {
   "cell_type": "markdown",
   "metadata": {},
   "source": [
    "# 4 -\"Flexible Provenance Ledger for Medical Images\" (FPL-MI).\n",
    "\n",
    "Why this name?\n",
    "\"Flexible\" – because it allows both hashed and non-hashed identifiers (e.g., for use cases where full hashing isn't practical, such as previews, proxies, or early-stage pipelines).\n",
    "\n",
    "\"Provenance Ledger\" – because the primary purpose is to record and verify the origin and authenticity of medical images over time.\n",
    "\n",
    "\"for Medical Images\" – to specify its intended use case in clinical, radiological, or imaging workflows.\n"
   ]
  },
  {
   "cell_type": "code",
   "execution_count": 38,
   "metadata": {},
   "outputs": [],
   "source": [
    "import json\n",
    "import os\n",
    "from datetime import datetime\n",
    "from hashlib import sha256\n",
    "\n",
    "# Path to the ledger file\n",
    "ledger_path = \"image_ledger1.json\"\n",
    "\n",
    "def hash_image(image_path):\n",
    "    \"\"\"Generates a SHA-256 hash for the given image file.\"\"\"\n",
    "    with open(image_path, \"rb\") as f:\n",
    "        return sha256(f.read()).hexdigest()\n",
    "\n",
    "def write_to_ledger(image_path, metadata, use_hash=True):\n",
    "    \"\"\"\n",
    "    Writes a new image entry to the ledger with or without hashing.\n",
    "\n",
    "    Args:\n",
    "        image_path (str): Path to the image file.\n",
    "        metadata (dict): Metadata such as source, location, etc.\n",
    "        use_hash (bool): If True, hash the image. If False, use file name as identifier.\n",
    "    \"\"\"\n",
    "    # Generate hash or fallback to filename\n",
    "    image_identifier = hash_image(image_path) if use_hash else os.path.basename(image_path)\n",
    "\n",
    "    # Load existing ledger or create a new one\n",
    "    if os.path.exists(ledger_path):\n",
    "        with open(ledger_path, \"r\") as f:\n",
    "            try:\n",
    "                ledger = json.load(f)\n",
    "            except json.JSONDecodeError:\n",
    "                print(\"⚠️ Warning: Ledger is corrupted. Creating a new one.\")\n",
    "                ledger = []\n",
    "    else:\n",
    "        ledger = []\n",
    "\n",
    "    # Create the ledger entry\n",
    "    entry = {\n",
    "        \"timestamp\": datetime.utcnow().isoformat() + \"Z\",\n",
    "        \"hash\": image_identifier,\n",
    "        \"metadata\": metadata,\n",
    "        \"hashed\": use_hash  # Track if hash or filename was used\n",
    "    }\n",
    "\n",
    "    # Save the entry\n",
    "    ledger.append(entry)\n",
    "    with open(ledger_path, \"w\") as f:\n",
    "        json.dump(ledger, f, indent=4)\n",
    "    \n",
    "    print(f\"✅ Entry added to ledger for {'hash' if use_hash else 'filename'}: {image_identifier}\")\n",
    "\n",
    "def check_hash_in_ledger(image_hash):\n",
    "    \"\"\"\n",
    "    Checks if a hash or identifier exists in the ledger.\n",
    "\n",
    "    Args:\n",
    "        image_hash (str): SHA-256 hash or filename to check.\n",
    "\n",
    "    Returns:\n",
    "        bool: True if found, False otherwise.\n",
    "    \"\"\"\n",
    "    if not os.path.exists(ledger_path):\n",
    "        print(\"ℹ️ Ledger does not exist yet.\")\n",
    "        return False\n",
    "\n",
    "    with open(ledger_path, \"r\") as f:\n",
    "        try:\n",
    "            ledger = json.load(f)\n",
    "        except json.JSONDecodeError:\n",
    "            print(\"⚠️ Ledger is corrupted.\")\n",
    "            return False\n",
    "\n",
    "    for entry in ledger:\n",
    "        if entry[\"hash\"] == image_hash:\n",
    "            print(\"🔍 Match found in ledger.\")\n",
    "            return True\n",
    "    \n",
    "    print(\"❌ Not found in ledger.\")\n",
    "    return False\n"
   ]
  },
  {
   "cell_type": "code",
   "execution_count": 39,
   "metadata": {},
   "outputs": [
    {
     "name": "stdout",
     "output_type": "stream",
     "text": [
      "✅ Entry added to ledger for filename: trial3.jpg\n",
      "🔍 Match found in ledger.\n",
      "🧾 Registered in ledger? True\n"
     ]
    }
   ],
   "source": [
    "image_path = \"trial3.jpg\"\n",
    "metadata = {\n",
    "    \"source\": \"MR Scanner\",\n",
    "    \"location\": \"Your Institution Name\",\n",
    "    \"modality\": \"MRI\",\n",
    "    \"operator\": \"John Doe\"\n",
    "}\n",
    "\n",
    "# Choose to hash or not\n",
    "use_hash = False  # Change to False to use just the filename\n",
    "\n",
    "write_to_ledger(image_path, metadata, use_hash=use_hash)\n",
    "\n",
    "# Check using hash or filename depending on what was used\n",
    "identifier = hash_image(image_path) if use_hash else os.path.basename(image_path)\n",
    "is_registered = check_hash_in_ledger(identifier)\n",
    "print(\"🧾 Registered in ledger?\", is_registered)\n"
   ]
  },
  {
   "cell_type": "code",
   "execution_count": 40,
   "metadata": {},
   "outputs": [
    {
     "name": "stdout",
     "output_type": "stream",
     "text": [
      "✅ Entry added to ledger for hash: 6f10ab4358520cc84c53223996e06842b82eb97c34f2f04afcf9fa63b3246aaf\n",
      "🔍 Match found in ledger.\n",
      "🧾 Registered in ledger? True\n"
     ]
    }
   ],
   "source": [
    "image_path = \"trial2.png\"\n",
    "metadata = {\n",
    "    \"source\": \"X-Ray\",\n",
    "    \"location\": \"Your Institution Name\",\n",
    "    \"modality\": \"X-Ray\",\n",
    "    \"operator\": \"John Doe\"\n",
    "}\n",
    "\n",
    "# Choose to hash or not\n",
    "use_hash = True  # Change to False to use just the filename\n",
    "\n",
    "write_to_ledger(image_path, metadata, use_hash=use_hash)\n",
    "\n",
    "# Check using hash or filename depending on what was used\n",
    "identifier = hash_image(image_path) if use_hash else os.path.basename(image_path)\n",
    "is_registered = check_hash_in_ledger(identifier)\n",
    "print(\"🧾 Registered in ledger?\", is_registered)\n"
   ]
  }
 ],
 "metadata": {
  "kernelspec": {
   "display_name": "torch",
   "language": "python",
   "name": "python3"
  },
  "language_info": {
   "codemirror_mode": {
    "name": "ipython",
    "version": 3
   },
   "file_extension": ".py",
   "mimetype": "text/x-python",
   "name": "python",
   "nbconvert_exporter": "python",
   "pygments_lexer": "ipython3",
   "version": "3.11.9"
  }
 },
 "nbformat": 4,
 "nbformat_minor": 2
}
